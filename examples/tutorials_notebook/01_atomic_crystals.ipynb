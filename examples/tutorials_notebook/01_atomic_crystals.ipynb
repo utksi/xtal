{
 "cells": [
  {
   "cell_type": "markdown",
   "metadata": {},
   "source": [
    "# Tutorial 1: Atomic crystal module in PyXtal\n",
    "\n",
    "Source code: https://github.com/qzhu2017/PyXtal\n",
    "\n",
    "Created by Qiang Zhu (2020/11/23)\n",
    "\n",
    "Last updated: 2022/08/11\n",
    "\n",
    "More details can be found at the following [link](https://pyxtal.readthedocs.io/en/latest/)\n",
    "\n",
    "# 1.1 Generate a random atomic crystal"
   ]
  },
  {
   "cell_type": "code",
   "execution_count": 1,
   "metadata": {},
   "outputs": [],
   "source": [
    "from pyxtal import pyxtal"
   ]
  },
  {
   "cell_type": "code",
   "execution_count": 2,
   "metadata": {},
   "outputs": [
    {
     "name": "stdout",
     "output_type": "stream",
     "text": [
      "\n",
      "------Crystal from random------\n",
      "Dimension: 3\n",
      "Composition: C8\n",
      "Group: F d -3 m:2 (227)\n",
      "  4.5200,   4.5200,   4.5200,  90.0000,  90.0000,  90.0000, cubic\n",
      "Wyckoff sites:\n",
      "\t C @ [ 0.1250  0.1250  0.1250], WP [8a] Site [-433mm]\n"
     ]
    }
   ],
   "source": [
    "C1 = pyxtal()\n",
    "C1.from_random(3, 227, ['C'], [8])\n",
    "# Alternative, you can also generate the structure with pre-assigned sites\n",
    "# C1.from_random(3, 225, [\"C\"], [12], sites=[[\"4a\", \"8c\"]])\n",
    "\n",
    "print(C1)"
   ]
  },
  {
   "cell_type": "code",
   "execution_count": 3,
   "metadata": {},
   "outputs": [
    {
     "data": {
      "text/plain": [
       "Wyckoff position 8a in space group 227 with site symmetry -4 33 mm\n",
       "1/8, 1/8, 1/8\n",
       "7/8, 3/8, 3/8\n",
       "1/8, 5/8, 5/8\n",
       "7/8, 7/8, 7/8\n",
       "5/8, 1/8, 5/8\n",
       "11/8, 3/8, 7/8\n",
       "5/8, 5/8, 1/8\n",
       "11/8, 7/8, 3/8"
      ]
     },
     "execution_count": 3,
     "metadata": {},
     "output_type": "execute_result"
    }
   ],
   "source": [
    "C1.atom_sites[0].wp"
   ]
  },
  {
   "cell_type": "code",
   "execution_count": 4,
   "metadata": {},
   "outputs": [
    {
     "data": {
      "application/3dmoljs_load.v0": "<div id=\"3dmolviewer_16602228857854478\"  style=\"position: relative; width: 600px; height: 300px\">\n        <p id=\"3dmolwarning_16602228857854478\" style=\"background-color:#ffcccc;color:black\">You appear to be running in JupyterLab (or JavaScript failed to load for some other reason).  You need to install the 3dmol extension: <br>\n        <tt>jupyter labextension install jupyterlab_3dmol</tt></p>\n        </div>\n<script>\n\nvar loadScriptAsync = function(uri){\n  return new Promise((resolve, reject) => {\n    var tag = document.createElement('script');\n    tag.src = uri;\n    tag.async = true;\n    tag.onload = () => {\n      resolve();\n    };\n  var firstScriptTag = document.getElementsByTagName('script')[0];\n  firstScriptTag.parentNode.insertBefore(tag, firstScriptTag);\n});\n};\n\nif(typeof $3Dmolpromise === 'undefined') {\n$3Dmolpromise = null;\n  $3Dmolpromise = loadScriptAsync('https://3dmol.org/build/3Dmol.js');\n}\n\nvar viewer_16602228857854478 = null;\nvar warn = document.getElementById(\"3dmolwarning_16602228857854478\");\nif(warn) {\n    warn.parentNode.removeChild(warn);\n}\n$3Dmolpromise.then(function() {\nviewer_16602228857854478 = $3Dmol.createViewer($(\"#3dmolviewer_16602228857854478\"),{backgroundColor:\"white\"});\nviewer_16602228857854478.zoomTo();\n\tviewer_16602228857854478.addModel(\"#############################################################\\n#             ______       _    _          _                #\\n#            (_____ \\\\     \\\\ \\\\  / /        | |               #\\n#             _____) )   _ \\\\ \\\\/ / |_  ____| |               #\\n#            |  ____/ | | | )  (|  _)/ _  | |               #\\n#            | |    | |_| |/ /\\\\ \\\\ |_( (_| | |___            #\\n#            |_|     \\\\__  /_/  \\\\_\\\\___)__|_|_____)           #\\n#                   (____/                                  #\\n#---------------------(version    0.5.1)--------------------#\\n#       A Python package for random crystal generation      #\\n#       url: https://github.com/qzhu2017/pyxtal             #\\n#       @Zhu's group at University of Nevada Las Vegas      #\\n#############################################################\\ndata_from_pyxtal\\n\\n_symmetry_space_group_name_H-M 'Fd-3m'\\n_symmetry_Int_Tables_number                  227\\n_symmetry_cell_setting                     cubic\\n_cell_length_a            4.520030\\n_cell_length_b            4.520030\\n_cell_length_c            4.520030\\n_cell_angle_alpha        90.000000\\n_cell_angle_beta         90.000000\\n_cell_angle_gamma        90.000000\\n_cell_volume             92.347226\\n\\nloop_\\n _symmetry_equiv_pos_site_id\\n _symmetry_equiv_pos_as_xyz\\n1 'x, y, z'\\n2 '-x+3/4, -y+1/4, z+1/2'\\n3 '-x+1/4, y+1/2, -z+3/4'\\n4 'x+1/2, -y+3/4, -z+1/4'\\n5 'z, x, y'\\n6 'z+1/2, -x+3/4, -y+1/4'\\n7 '-z+3/4, -x+1/4, y+1/2'\\n8 '-z+1/4, x+1/2, -y+3/4'\\n9 'y, z, x'\\n10 '-y+1/4, z+1/2, -x+3/4'\\n11 'y+1/2, -z+3/4, -x+1/4'\\n12 '-y+3/4, -z+1/4, x+1/2'\\n13 'y+3/4, x+1/4, -z+1/2'\\n14 '-y, -x, -z'\\n15 'y+1/4, -x+1/2, z+3/4'\\n16 '-y+1/2, x+3/4, z+1/4'\\n17 'x+3/4, z+1/4, -y+1/2'\\n18 '-x+1/2, z+3/4, y+1/4'\\n19 '-x, -z, -y'\\n20 'x+1/4, -z+1/2, y+3/4'\\n21 'z+3/4, y+1/4, -x+1/2'\\n22 'z+1/4, -y+1/2, x+3/4'\\n23 '-z+1/2, y+3/4, x+1/4'\\n24 '-z, -y, -x'\\n25 '-x, -y, -z'\\n26 'x+1/4, y+3/4, -z+1/2'\\n27 'x+3/4, -y+1/2, z+1/4'\\n28 '-x+1/2, y+1/4, z+3/4'\\n29 '-z, -x, -y'\\n30 '-z+1/2, x+1/4, y+3/4'\\n31 'z+1/4, x+3/4, -y+1/2'\\n32 'z+3/4, -x+1/2, y+1/4'\\n33 '-y, -z, -x'\\n34 'y+3/4, -z+1/2, x+1/4'\\n35 '-y+1/2, z+1/4, x+3/4'\\n36 'y+1/4, z+3/4, -x+1/2'\\n37 '-y+1/4, -x+3/4, z+1/2'\\n38 'y, x, z'\\n39 '-y+3/4, x+1/2, -z+1/4'\\n40 'y+1/2, -x+1/4, -z+3/4'\\n41 '-x+1/4, -z+3/4, y+1/2'\\n42 'x+1/2, -z+1/4, -y+3/4'\\n43 'x, z, y'\\n44 '-x+3/4, z+1/2, -y+1/4'\\n45 '-z+1/4, -y+3/4, x+1/2'\\n46 '-z+3/4, y+1/2, -x+1/4'\\n47 'z+1/2, -y+1/4, -x+3/4'\\n48 'z, y, x'\\n49 'x, y+1/2, z+1/2'\\n50 '-x+3/4, -y+3/4, z+1'\\n51 '-x+1/4, y+1, -z+5/4'\\n52 'x+1/2, -y+5/4, -z+3/4'\\n53 'z, x+1/2, y+1/2'\\n54 'z+1/2, -x+5/4, -y+3/4'\\n55 '-z+3/4, -x+3/4, y+1'\\n56 '-z+1/4, x+1, -y+5/4'\\n57 'y, z+1/2, x+1/2'\\n58 '-y+1/4, z+1, -x+5/4'\\n59 'y+1/2, -z+5/4, -x+3/4'\\n60 '-y+3/4, -z+3/4, x+1'\\n61 'y+3/4, x+3/4, -z+1'\\n62 '-y, -x+1/2, -z+1/2'\\n63 'y+1/4, -x+1, z+5/4'\\n64 '-y+1/2, x+5/4, z+3/4'\\n65 'x+3/4, z+3/4, -y+1'\\n66 '-x+1/2, z+5/4, y+3/4'\\n67 '-x, -z+1/2, -y+1/2'\\n68 'x+1/4, -z+1, y+5/4'\\n69 'z+3/4, y+3/4, -x+1'\\n70 'z+1/4, -y+1, x+5/4'\\n71 '-z+1/2, y+5/4, x+3/4'\\n72 '-z, -y+1/2, -x+1/2'\\n73 '-x, -y+1/2, -z+1/2'\\n74 'x+1/4, y+5/4, -z+1'\\n75 'x+3/4, -y+1, z+3/4'\\n76 '-x+1/2, y+3/4, z+5/4'\\n77 '-z, -x+1/2, -y+1/2'\\n78 '-z+1/2, x+3/4, y+5/4'\\n79 'z+1/4, x+5/4, -y+1'\\n80 'z+3/4, -x+1, y+3/4'\\n81 '-y, -z+1/2, -x+1/2'\\n82 'y+3/4, -z+1, x+3/4'\\n83 '-y+1/2, z+3/4, x+5/4'\\n84 'y+1/4, z+5/4, -x+1'\\n85 '-y+1/4, -x+5/4, z+1'\\n86 'y, x+1/2, z+1/2'\\n87 '-y+3/4, x+1, -z+3/4'\\n88 'y+1/2, -x+3/4, -z+5/4'\\n89 '-x+1/4, -z+5/4, y+1'\\n90 'x+1/2, -z+3/4, -y+5/4'\\n91 'x, z+1/2, y+1/2'\\n92 '-x+3/4, z+1, -y+3/4'\\n93 '-z+1/4, -y+5/4, x+1'\\n94 '-z+3/4, y+1, -x+3/4'\\n95 'z+1/2, -y+3/4, -x+5/4'\\n96 'z, y+1/2, x+1/2'\\n97 'x+1/2, y, z+1/2'\\n98 '-x+5/4, -y+1/4, z+1'\\n99 '-x+3/4, y+1/2, -z+5/4'\\n100 'x+1, -y+3/4, -z+3/4'\\n101 'z+1/2, x, y+1/2'\\n102 'z+1, -x+3/4, -y+3/4'\\n103 '-z+5/4, -x+1/4, y+1'\\n104 '-z+3/4, x+1/2, -y+5/4'\\n105 'y+1/2, z, x+1/2'\\n106 '-y+3/4, z+1/2, -x+5/4'\\n107 'y+1, -z+3/4, -x+3/4'\\n108 '-y+5/4, -z+1/4, x+1'\\n109 'y+5/4, x+1/4, -z+1'\\n110 '-y+1/2, -x, -z+1/2'\\n111 'y+3/4, -x+1/2, z+5/4'\\n112 '-y+1, x+3/4, z+3/4'\\n113 'x+5/4, z+1/4, -y+1'\\n114 '-x+1, z+3/4, y+3/4'\\n115 '-x+1/2, -z, -y+1/2'\\n116 'x+3/4, -z+1/2, y+5/4'\\n117 'z+5/4, y+1/4, -x+1'\\n118 'z+3/4, -y+1/2, x+5/4'\\n119 '-z+1, y+3/4, x+3/4'\\n120 '-z+1/2, -y, -x+1/2'\\n121 '-x+1/2, -y, -z+1/2'\\n122 'x+3/4, y+3/4, -z+1'\\n123 'x+5/4, -y+1/2, z+3/4'\\n124 '-x+1, y+1/4, z+5/4'\\n125 '-z+1/2, -x, -y+1/2'\\n126 '-z+1, x+1/4, y+5/4'\\n127 'z+3/4, x+3/4, -y+1'\\n128 'z+5/4, -x+1/2, y+3/4'\\n129 '-y+1/2, -z, -x+1/2'\\n130 'y+5/4, -z+1/2, x+3/4'\\n131 '-y+1, z+1/4, x+5/4'\\n132 'y+3/4, z+3/4, -x+1'\\n133 '-y+3/4, -x+3/4, z+1'\\n134 'y+1/2, x, z+1/2'\\n135 '-y+5/4, x+1/2, -z+3/4'\\n136 'y+1, -x+1/4, -z+5/4'\\n137 '-x+3/4, -z+3/4, y+1'\\n138 'x+1, -z+1/4, -y+5/4'\\n139 'x+1/2, z, y+1/2'\\n140 '-x+5/4, z+1/2, -y+3/4'\\n141 '-z+3/4, -y+3/4, x+1'\\n142 '-z+5/4, y+1/2, -x+3/4'\\n143 'z+1, -y+1/4, -x+5/4'\\n144 'z+1/2, y, x+1/2'\\n145 'x+1/2, y+1/2, z'\\n146 '-x+5/4, -y+3/4, z+1/2'\\n147 '-x+3/4, y+1, -z+3/4'\\n148 'x+1, -y+5/4, -z+1/4'\\n149 'z+1/2, x+1/2, y'\\n150 'z+1, -x+5/4, -y+1/4'\\n151 '-z+5/4, -x+3/4, y+1/2'\\n152 '-z+3/4, x+1, -y+3/4'\\n153 'y+1/2, z+1/2, x'\\n154 '-y+3/4, z+1, -x+3/4'\\n155 'y+1, -z+5/4, -x+1/4'\\n156 '-y+5/4, -z+3/4, x+1/2'\\n157 'y+5/4, x+3/4, -z+1/2'\\n158 '-y+1/2, -x+1/2, -z'\\n159 'y+3/4, -x+1, z+3/4'\\n160 '-y+1, x+5/4, z+1/4'\\n161 'x+5/4, z+3/4, -y+1/2'\\n162 '-x+1, z+5/4, y+1/4'\\n163 '-x+1/2, -z+1/2, -y'\\n164 'x+3/4, -z+1, y+3/4'\\n165 'z+5/4, y+3/4, -x+1/2'\\n166 'z+3/4, -y+1, x+3/4'\\n167 '-z+1, y+5/4, x+1/4'\\n168 '-z+1/2, -y+1/2, -x'\\n169 '-x+1/2, -y+1/2, -z'\\n170 'x+3/4, y+5/4, -z+1/2'\\n171 'x+5/4, -y+1, z+1/4'\\n172 '-x+1, y+3/4, z+3/4'\\n173 '-z+1/2, -x+1/2, -y'\\n174 '-z+1, x+3/4, y+3/4'\\n175 'z+3/4, x+5/4, -y+1/2'\\n176 'z+5/4, -x+1, y+1/4'\\n177 '-y+1/2, -z+1/2, -x'\\n178 'y+5/4, -z+1, x+1/4'\\n179 '-y+1, z+3/4, x+3/4'\\n180 'y+3/4, z+5/4, -x+1/2'\\n181 '-y+3/4, -x+5/4, z+1/2'\\n182 'y+1/2, x+1/2, z'\\n183 '-y+5/4, x+1, -z+1/4'\\n184 'y+1, -x+3/4, -z+3/4'\\n185 '-x+3/4, -z+5/4, y+1/2'\\n186 'x+1, -z+3/4, -y+3/4'\\n187 'x+1/2, z+1/2, y'\\n188 '-x+5/4, z+1, -y+1/4'\\n189 '-z+3/4, -y+5/4, x+1/2'\\n190 '-z+5/4, y+1, -x+1/4'\\n191 'z+1, -y+3/4, -x+3/4'\\n192 'z+1/2, y+1/2, x'\\n\\nloop_\\n _atom_site_label\\n _atom_site_type_symbol\\n _atom_site_symmetry_multiplicity\\n _atom_site_fract_x\\n _atom_site_fract_y\\n _atom_site_fract_z\\n _atom_site_occupancy\\nC      C        8     0.125000    0.125000    0.125000 1\\n#END\\n\\n\",\"cif\",{\"doAssembly\": true, \"duplicateAssemblyAtoms\": true});\n\tviewer_16602228857854478.setStyle({\"sphere\": {\"colorscheme\": \"Jmol\", \"scale\": 0.25}, \"stick\": {\"colorscheme\": \"Jmol\", \"radius\": 0.1}});\n\tviewer_16602228857854478.addUnitCell();\n\tviewer_16602228857854478.replicateUnitCell(2,2,1);\n\tviewer_16602228857854478.zoomTo();\nviewer_16602228857854478.render();\n});\n</script>",
      "text/html": [
       "<div id=\"3dmolviewer_16602228857854478\"  style=\"position: relative; width: 600px; height: 300px\">\n",
       "        <p id=\"3dmolwarning_16602228857854478\" style=\"background-color:#ffcccc;color:black\">You appear to be running in JupyterLab (or JavaScript failed to load for some other reason).  You need to install the 3dmol extension: <br>\n",
       "        <tt>jupyter labextension install jupyterlab_3dmol</tt></p>\n",
       "        </div>\n",
       "<script>\n",
       "\n",
       "var loadScriptAsync = function(uri){\n",
       "  return new Promise((resolve, reject) => {\n",
       "    var tag = document.createElement('script');\n",
       "    tag.src = uri;\n",
       "    tag.async = true;\n",
       "    tag.onload = () => {\n",
       "      resolve();\n",
       "    };\n",
       "  var firstScriptTag = document.getElementsByTagName('script')[0];\n",
       "  firstScriptTag.parentNode.insertBefore(tag, firstScriptTag);\n",
       "});\n",
       "};\n",
       "\n",
       "if(typeof $3Dmolpromise === 'undefined') {\n",
       "$3Dmolpromise = null;\n",
       "  $3Dmolpromise = loadScriptAsync('https://3dmol.org/build/3Dmol.js');\n",
       "}\n",
       "\n",
       "var viewer_16602228857854478 = null;\n",
       "var warn = document.getElementById(\"3dmolwarning_16602228857854478\");\n",
       "if(warn) {\n",
       "    warn.parentNode.removeChild(warn);\n",
       "}\n",
       "$3Dmolpromise.then(function() {\n",
       "viewer_16602228857854478 = $3Dmol.createViewer($(\"#3dmolviewer_16602228857854478\"),{backgroundColor:\"white\"});\n",
       "viewer_16602228857854478.zoomTo();\n",
       "\tviewer_16602228857854478.addModel(\"#############################################################\\n#             ______       _    _          _                #\\n#            (_____ \\\\     \\\\ \\\\  / /        | |               #\\n#             _____) )   _ \\\\ \\\\/ / |_  ____| |               #\\n#            |  ____/ | | | )  (|  _)/ _  | |               #\\n#            | |    | |_| |/ /\\\\ \\\\ |_( (_| | |___            #\\n#            |_|     \\\\__  /_/  \\\\_\\\\___)__|_|_____)           #\\n#                   (____/                                  #\\n#---------------------(version    0.5.1)--------------------#\\n#       A Python package for random crystal generation      #\\n#       url: https://github.com/qzhu2017/pyxtal             #\\n#       @Zhu's group at University of Nevada Las Vegas      #\\n#############################################################\\ndata_from_pyxtal\\n\\n_symmetry_space_group_name_H-M 'Fd-3m'\\n_symmetry_Int_Tables_number                  227\\n_symmetry_cell_setting                     cubic\\n_cell_length_a            4.520030\\n_cell_length_b            4.520030\\n_cell_length_c            4.520030\\n_cell_angle_alpha        90.000000\\n_cell_angle_beta         90.000000\\n_cell_angle_gamma        90.000000\\n_cell_volume             92.347226\\n\\nloop_\\n _symmetry_equiv_pos_site_id\\n _symmetry_equiv_pos_as_xyz\\n1 'x, y, z'\\n2 '-x+3/4, -y+1/4, z+1/2'\\n3 '-x+1/4, y+1/2, -z+3/4'\\n4 'x+1/2, -y+3/4, -z+1/4'\\n5 'z, x, y'\\n6 'z+1/2, -x+3/4, -y+1/4'\\n7 '-z+3/4, -x+1/4, y+1/2'\\n8 '-z+1/4, x+1/2, -y+3/4'\\n9 'y, z, x'\\n10 '-y+1/4, z+1/2, -x+3/4'\\n11 'y+1/2, -z+3/4, -x+1/4'\\n12 '-y+3/4, -z+1/4, x+1/2'\\n13 'y+3/4, x+1/4, -z+1/2'\\n14 '-y, -x, -z'\\n15 'y+1/4, -x+1/2, z+3/4'\\n16 '-y+1/2, x+3/4, z+1/4'\\n17 'x+3/4, z+1/4, -y+1/2'\\n18 '-x+1/2, z+3/4, y+1/4'\\n19 '-x, -z, -y'\\n20 'x+1/4, -z+1/2, y+3/4'\\n21 'z+3/4, y+1/4, -x+1/2'\\n22 'z+1/4, -y+1/2, x+3/4'\\n23 '-z+1/2, y+3/4, x+1/4'\\n24 '-z, -y, -x'\\n25 '-x, -y, -z'\\n26 'x+1/4, y+3/4, -z+1/2'\\n27 'x+3/4, -y+1/2, z+1/4'\\n28 '-x+1/2, y+1/4, z+3/4'\\n29 '-z, -x, -y'\\n30 '-z+1/2, x+1/4, y+3/4'\\n31 'z+1/4, x+3/4, -y+1/2'\\n32 'z+3/4, -x+1/2, y+1/4'\\n33 '-y, -z, -x'\\n34 'y+3/4, -z+1/2, x+1/4'\\n35 '-y+1/2, z+1/4, x+3/4'\\n36 'y+1/4, z+3/4, -x+1/2'\\n37 '-y+1/4, -x+3/4, z+1/2'\\n38 'y, x, z'\\n39 '-y+3/4, x+1/2, -z+1/4'\\n40 'y+1/2, -x+1/4, -z+3/4'\\n41 '-x+1/4, -z+3/4, y+1/2'\\n42 'x+1/2, -z+1/4, -y+3/4'\\n43 'x, z, y'\\n44 '-x+3/4, z+1/2, -y+1/4'\\n45 '-z+1/4, -y+3/4, x+1/2'\\n46 '-z+3/4, y+1/2, -x+1/4'\\n47 'z+1/2, -y+1/4, -x+3/4'\\n48 'z, y, x'\\n49 'x, y+1/2, z+1/2'\\n50 '-x+3/4, -y+3/4, z+1'\\n51 '-x+1/4, y+1, -z+5/4'\\n52 'x+1/2, -y+5/4, -z+3/4'\\n53 'z, x+1/2, y+1/2'\\n54 'z+1/2, -x+5/4, -y+3/4'\\n55 '-z+3/4, -x+3/4, y+1'\\n56 '-z+1/4, x+1, -y+5/4'\\n57 'y, z+1/2, x+1/2'\\n58 '-y+1/4, z+1, -x+5/4'\\n59 'y+1/2, -z+5/4, -x+3/4'\\n60 '-y+3/4, -z+3/4, x+1'\\n61 'y+3/4, x+3/4, -z+1'\\n62 '-y, -x+1/2, -z+1/2'\\n63 'y+1/4, -x+1, z+5/4'\\n64 '-y+1/2, x+5/4, z+3/4'\\n65 'x+3/4, z+3/4, -y+1'\\n66 '-x+1/2, z+5/4, y+3/4'\\n67 '-x, -z+1/2, -y+1/2'\\n68 'x+1/4, -z+1, y+5/4'\\n69 'z+3/4, y+3/4, -x+1'\\n70 'z+1/4, -y+1, x+5/4'\\n71 '-z+1/2, y+5/4, x+3/4'\\n72 '-z, -y+1/2, -x+1/2'\\n73 '-x, -y+1/2, -z+1/2'\\n74 'x+1/4, y+5/4, -z+1'\\n75 'x+3/4, -y+1, z+3/4'\\n76 '-x+1/2, y+3/4, z+5/4'\\n77 '-z, -x+1/2, -y+1/2'\\n78 '-z+1/2, x+3/4, y+5/4'\\n79 'z+1/4, x+5/4, -y+1'\\n80 'z+3/4, -x+1, y+3/4'\\n81 '-y, -z+1/2, -x+1/2'\\n82 'y+3/4, -z+1, x+3/4'\\n83 '-y+1/2, z+3/4, x+5/4'\\n84 'y+1/4, z+5/4, -x+1'\\n85 '-y+1/4, -x+5/4, z+1'\\n86 'y, x+1/2, z+1/2'\\n87 '-y+3/4, x+1, -z+3/4'\\n88 'y+1/2, -x+3/4, -z+5/4'\\n89 '-x+1/4, -z+5/4, y+1'\\n90 'x+1/2, -z+3/4, -y+5/4'\\n91 'x, z+1/2, y+1/2'\\n92 '-x+3/4, z+1, -y+3/4'\\n93 '-z+1/4, -y+5/4, x+1'\\n94 '-z+3/4, y+1, -x+3/4'\\n95 'z+1/2, -y+3/4, -x+5/4'\\n96 'z, y+1/2, x+1/2'\\n97 'x+1/2, y, z+1/2'\\n98 '-x+5/4, -y+1/4, z+1'\\n99 '-x+3/4, y+1/2, -z+5/4'\\n100 'x+1, -y+3/4, -z+3/4'\\n101 'z+1/2, x, y+1/2'\\n102 'z+1, -x+3/4, -y+3/4'\\n103 '-z+5/4, -x+1/4, y+1'\\n104 '-z+3/4, x+1/2, -y+5/4'\\n105 'y+1/2, z, x+1/2'\\n106 '-y+3/4, z+1/2, -x+5/4'\\n107 'y+1, -z+3/4, -x+3/4'\\n108 '-y+5/4, -z+1/4, x+1'\\n109 'y+5/4, x+1/4, -z+1'\\n110 '-y+1/2, -x, -z+1/2'\\n111 'y+3/4, -x+1/2, z+5/4'\\n112 '-y+1, x+3/4, z+3/4'\\n113 'x+5/4, z+1/4, -y+1'\\n114 '-x+1, z+3/4, y+3/4'\\n115 '-x+1/2, -z, -y+1/2'\\n116 'x+3/4, -z+1/2, y+5/4'\\n117 'z+5/4, y+1/4, -x+1'\\n118 'z+3/4, -y+1/2, x+5/4'\\n119 '-z+1, y+3/4, x+3/4'\\n120 '-z+1/2, -y, -x+1/2'\\n121 '-x+1/2, -y, -z+1/2'\\n122 'x+3/4, y+3/4, -z+1'\\n123 'x+5/4, -y+1/2, z+3/4'\\n124 '-x+1, y+1/4, z+5/4'\\n125 '-z+1/2, -x, -y+1/2'\\n126 '-z+1, x+1/4, y+5/4'\\n127 'z+3/4, x+3/4, -y+1'\\n128 'z+5/4, -x+1/2, y+3/4'\\n129 '-y+1/2, -z, -x+1/2'\\n130 'y+5/4, -z+1/2, x+3/4'\\n131 '-y+1, z+1/4, x+5/4'\\n132 'y+3/4, z+3/4, -x+1'\\n133 '-y+3/4, -x+3/4, z+1'\\n134 'y+1/2, x, z+1/2'\\n135 '-y+5/4, x+1/2, -z+3/4'\\n136 'y+1, -x+1/4, -z+5/4'\\n137 '-x+3/4, -z+3/4, y+1'\\n138 'x+1, -z+1/4, -y+5/4'\\n139 'x+1/2, z, y+1/2'\\n140 '-x+5/4, z+1/2, -y+3/4'\\n141 '-z+3/4, -y+3/4, x+1'\\n142 '-z+5/4, y+1/2, -x+3/4'\\n143 'z+1, -y+1/4, -x+5/4'\\n144 'z+1/2, y, x+1/2'\\n145 'x+1/2, y+1/2, z'\\n146 '-x+5/4, -y+3/4, z+1/2'\\n147 '-x+3/4, y+1, -z+3/4'\\n148 'x+1, -y+5/4, -z+1/4'\\n149 'z+1/2, x+1/2, y'\\n150 'z+1, -x+5/4, -y+1/4'\\n151 '-z+5/4, -x+3/4, y+1/2'\\n152 '-z+3/4, x+1, -y+3/4'\\n153 'y+1/2, z+1/2, x'\\n154 '-y+3/4, z+1, -x+3/4'\\n155 'y+1, -z+5/4, -x+1/4'\\n156 '-y+5/4, -z+3/4, x+1/2'\\n157 'y+5/4, x+3/4, -z+1/2'\\n158 '-y+1/2, -x+1/2, -z'\\n159 'y+3/4, -x+1, z+3/4'\\n160 '-y+1, x+5/4, z+1/4'\\n161 'x+5/4, z+3/4, -y+1/2'\\n162 '-x+1, z+5/4, y+1/4'\\n163 '-x+1/2, -z+1/2, -y'\\n164 'x+3/4, -z+1, y+3/4'\\n165 'z+5/4, y+3/4, -x+1/2'\\n166 'z+3/4, -y+1, x+3/4'\\n167 '-z+1, y+5/4, x+1/4'\\n168 '-z+1/2, -y+1/2, -x'\\n169 '-x+1/2, -y+1/2, -z'\\n170 'x+3/4, y+5/4, -z+1/2'\\n171 'x+5/4, -y+1, z+1/4'\\n172 '-x+1, y+3/4, z+3/4'\\n173 '-z+1/2, -x+1/2, -y'\\n174 '-z+1, x+3/4, y+3/4'\\n175 'z+3/4, x+5/4, -y+1/2'\\n176 'z+5/4, -x+1, y+1/4'\\n177 '-y+1/2, -z+1/2, -x'\\n178 'y+5/4, -z+1, x+1/4'\\n179 '-y+1, z+3/4, x+3/4'\\n180 'y+3/4, z+5/4, -x+1/2'\\n181 '-y+3/4, -x+5/4, z+1/2'\\n182 'y+1/2, x+1/2, z'\\n183 '-y+5/4, x+1, -z+1/4'\\n184 'y+1, -x+3/4, -z+3/4'\\n185 '-x+3/4, -z+5/4, y+1/2'\\n186 'x+1, -z+3/4, -y+3/4'\\n187 'x+1/2, z+1/2, y'\\n188 '-x+5/4, z+1, -y+1/4'\\n189 '-z+3/4, -y+5/4, x+1/2'\\n190 '-z+5/4, y+1, -x+1/4'\\n191 'z+1, -y+3/4, -x+3/4'\\n192 'z+1/2, y+1/2, x'\\n\\nloop_\\n _atom_site_label\\n _atom_site_type_symbol\\n _atom_site_symmetry_multiplicity\\n _atom_site_fract_x\\n _atom_site_fract_y\\n _atom_site_fract_z\\n _atom_site_occupancy\\nC      C        8     0.125000    0.125000    0.125000 1\\n#END\\n\\n\",\"cif\",{\"doAssembly\": true, \"duplicateAssemblyAtoms\": true});\n",
       "\tviewer_16602228857854478.setStyle({\"sphere\": {\"colorscheme\": \"Jmol\", \"scale\": 0.25}, \"stick\": {\"colorscheme\": \"Jmol\", \"radius\": 0.1}});\n",
       "\tviewer_16602228857854478.addUnitCell();\n",
       "\tviewer_16602228857854478.replicateUnitCell(2,2,1);\n",
       "\tviewer_16602228857854478.zoomTo();\n",
       "viewer_16602228857854478.render();\n",
       "});\n",
       "</script>"
      ]
     },
     "metadata": {},
     "output_type": "display_data"
    },
    {
     "data": {
      "text/plain": [
       "<py3Dmol.view at 0x7f7c752ae390>"
      ]
     },
     "execution_count": 4,
     "metadata": {},
     "output_type": "execute_result"
    }
   ],
   "source": [
    "#display the structure can be easily accessed with the show() function\n",
    "C1.show(supercell=(2,2,1))"
   ]
  },
  {
   "cell_type": "markdown",
   "metadata": {},
   "source": [
    "# 1.2 Manipulating the crystal via symmetry relation"
   ]
  },
  {
   "cell_type": "code",
   "execution_count": 5,
   "metadata": {},
   "outputs": [
    {
     "name": "stdout",
     "output_type": "stream",
     "text": [
      "\n",
      "------Crystal from subgroup------\n",
      "Dimension: 3\n",
      "Composition: C8\n",
      "Group: I 41/a m d:2 (141)\n",
      "  3.1961,   3.1961,   4.5134,  90.0000,  90.0000,  90.0000, tetragonal\n",
      "Wyckoff sites:\n",
      "\t C @ [ 0.0000  0.7500  0.1250], WP [4a] Site [-4mm2]\n"
     ]
    }
   ],
   "source": [
    "# lower the symmetry from cubic to tetragonal\n",
    "C2 = C1.subgroup_once(H=141, eps=1e-2)\n",
    "print(C2)"
   ]
  },
  {
   "cell_type": "code",
   "execution_count": 6,
   "metadata": {},
   "outputs": [],
   "source": [
    "# Compute the XRD\n",
    "xrd1 = C1.get_XRD()\n",
    "xrd2 = C2.get_XRD()\n"
   ]
  },
  {
   "cell_type": "code",
   "execution_count": 7,
   "metadata": {},
   "outputs": [
    {
     "name": "stdout",
     "output_type": "stream",
     "text": [
      "The similarity between two PXRDs is 0.9986\n"
     ]
    },
    {
     "data": {
      "image/png": "[encoded data removed]",
      "text/plain": [
       "<Figure size 1080x432 with 2 Axes>"
      ]
     },
     "metadata": {
      "needs_background": "light"
     },
     "output_type": "display_data"
    }
   ],
   "source": [
    "# Compare two structures by XRD\n",
    "from pyxtal.XRD import Similarity\n",
    "p1 = xrd1.get_profile()\n",
    "p2 = xrd2.get_profile()\n",
    "s = Similarity(p1, p2, x_range=[15, 90])\n",
    "print(s)\n",
    "s.show()"
   ]
  },
  {
   "cell_type": "markdown",
   "metadata": {},
   "source": [
    "# 1.3 Chemical substitution via symmetry relation"
   ]
  },
  {
   "cell_type": "code",
   "execution_count": 8,
   "metadata": {},
   "outputs": [
    {
     "name": "stdout",
     "output_type": "stream",
     "text": [
      "\n",
      "------Crystal from random------\n",
      "Dimension: 3\n",
      "Composition: C8\n",
      "Group: F d -3 m:2 (227)\n",
      "  4.5200,   4.5200,   4.5200,  90.0000,  90.0000,  90.0000, cubic\n",
      "Wyckoff sites:\n",
      "\t C @ [ 0.1250  0.1250  0.1250], WP [8a] Site [-433mm]\n",
      "\n",
      "------Crystal from subgroup------\n",
      "Dimension: 3\n",
      "Composition: Si3C3\n",
      "Group: R 3:H (146)\n",
      "  3.1961,   3.1961,   7.7923,  90.0000,  90.0000, 120.0000, hexagonal\n",
      "Wyckoff sites:\n",
      "\t C @ [ 0.0000  0.0000  0.1245], WP [3a] Site [3..]\n",
      "\tSi @ [ 0.0000  0.0000  0.8764], WP [3a] Site [3..]\n"
     ]
    },
    {
     "data": {
      "application/3dmoljs_load.v0": "<div id=\"3dmolviewer_1660222888253011\"  style=\"position: relative; width: 600px; height: 300px\">\n        <p id=\"3dmolwarning_1660222888253011\" style=\"background-color:#ffcccc;color:black\">You appear to be running in JupyterLab (or JavaScript failed to load for some other reason).  You need to install the 3dmol extension: <br>\n        <tt>jupyter labextension install jupyterlab_3dmol</tt></p>\n        </div>\n<script>\n\nvar loadScriptAsync = function(uri){\n  return new Promise((resolve, reject) => {\n    var tag = document.createElement('script');\n    tag.src = uri;\n    tag.async = true;\n    tag.onload = () => {\n      resolve();\n    };\n  var firstScriptTag = document.getElementsByTagName('script')[0];\n  firstScriptTag.parentNode.insertBefore(tag, firstScriptTag);\n});\n};\n\nif(typeof $3Dmolpromise === 'undefined') {\n$3Dmolpromise = null;\n  $3Dmolpromise = loadScriptAsync('https://3dmol.org/build/3Dmol.js');\n}\n\nvar viewer_1660222888253011 = null;\nvar warn = document.getElementById(\"3dmolwarning_1660222888253011\");\nif(warn) {\n    warn.parentNode.removeChild(warn);\n}\n$3Dmolpromise.then(function() {\nviewer_1660222888253011 = $3Dmol.createViewer($(\"#3dmolviewer_1660222888253011\"),{backgroundColor:\"white\"});\nviewer_1660222888253011.zoomTo();\n\tviewer_1660222888253011.addModel(\"#############################################################\\n#             ______       _    _          _                #\\n#            (_____ \\\\     \\\\ \\\\  / /        | |               #\\n#             _____) )   _ \\\\ \\\\/ / |_  ____| |               #\\n#            |  ____/ | | | )  (|  _)/ _  | |               #\\n#            | |    | |_| |/ /\\\\ \\\\ |_( (_| | |___            #\\n#            |_|     \\\\__  /_/  \\\\_\\\\___)__|_|_____)           #\\n#                   (____/                                  #\\n#---------------------(version    0.5.1)--------------------#\\n#       A Python package for random crystal generation      #\\n#       url: https://github.com/qzhu2017/pyxtal             #\\n#       @Zhu's group at University of Nevada Las Vegas      #\\n#############################################################\\ndata_from_pyxtal\\n\\n_symmetry_space_group_name_H-M 'R3'\\n_symmetry_Int_Tables_number                  146\\n_symmetry_cell_setting                 hexagonal\\n_cell_length_a            3.196144\\n_cell_length_b            3.196144\\n_cell_length_c            7.792288\\n_cell_angle_alpha        90.000000\\n_cell_angle_beta         90.000000\\n_cell_angle_gamma       120.000000\\n_cell_volume             68.936338\\n\\nloop_\\n _symmetry_equiv_pos_site_id\\n _symmetry_equiv_pos_as_xyz\\n1 'x, y, z'\\n2 '-y, x-y, z'\\n3 '-x+y, -x, z'\\n4 'x+2/3, y+1/3, z+1/3'\\n5 '-y+2/3, x-y+1/3, z+1/3'\\n6 '-x+y+2/3, -x+1/3, z+1/3'\\n7 'x+1/3, y+2/3, z+2/3'\\n8 '-y+1/3, x-y+2/3, z+2/3'\\n9 '-x+y+1/3, -x+2/3, z+2/3'\\n\\nloop_\\n _atom_site_label\\n _atom_site_type_symbol\\n _atom_site_symmetry_multiplicity\\n _atom_site_fract_x\\n _atom_site_fract_y\\n _atom_site_fract_z\\n _atom_site_occupancy\\nC      C        3     0.000000    0.000000    0.124534 1\\nSi     Si       3     0.000000    0.000000    0.876382 1\\n#END\\n\\n\",\"cif\",{\"doAssembly\": true, \"duplicateAssemblyAtoms\": true});\n\tviewer_1660222888253011.setStyle({\"sphere\": {\"colorscheme\": \"Jmol\", \"scale\": 0.25}, \"stick\": {\"colorscheme\": \"Jmol\", \"radius\": 0.1}});\n\tviewer_1660222888253011.addUnitCell();\n\tviewer_1660222888253011.replicateUnitCell(2,2,2);\n\tviewer_1660222888253011.zoomTo();\nviewer_1660222888253011.render();\n});\n</script>",
      "text/html": [
       "<div id=\"3dmolviewer_1660222888253011\"  style=\"position: relative; width: 600px; height: 300px\">\n",
       "        <p id=\"3dmolwarning_1660222888253011\" style=\"background-color:#ffcccc;color:black\">You appear to be running in JupyterLab (or JavaScript failed to load for some other reason).  You need to install the 3dmol extension: <br>\n",
       "        <tt>jupyter labextension install jupyterlab_3dmol</tt></p>\n",
       "        </div>\n",
       "<script>\n",
       "\n",
       "var loadScriptAsync = function(uri){\n",
       "  return new Promise((resolve, reject) => {\n",
       "    var tag = document.createElement('script');\n",
       "    tag.src = uri;\n",
       "    tag.async = true;\n",
       "    tag.onload = () => {\n",
       "      resolve();\n",
       "    };\n",
       "  var firstScriptTag = document.getElementsByTagName('script')[0];\n",
       "  firstScriptTag.parentNode.insertBefore(tag, firstScriptTag);\n",
       "});\n",
       "};\n",
       "\n",
       "if(typeof $3Dmolpromise === 'undefined') {\n",
       "$3Dmolpromise = null;\n",
       "  $3Dmolpromise = loadScriptAsync('https://3dmol.org/build/3Dmol.js');\n",
       "}\n",
       "\n",
       "var viewer_1660222888253011 = null;\n",
       "var warn = document.getElementById(\"3dmolwarning_1660222888253011\");\n",
       "if(warn) {\n",
       "    warn.parentNode.removeChild(warn);\n",
       "}\n",
       "$3Dmolpromise.then(function() {\n",
       "viewer_1660222888253011 = $3Dmol.createViewer($(\"#3dmolviewer_1660222888253011\"),{backgroundColor:\"white\"});\n",
       "viewer_1660222888253011.zoomTo();\n",
       "\tviewer_1660222888253011.addModel(\"#############################################################\\n#             ______       _    _          _                #\\n#            (_____ \\\\     \\\\ \\\\  / /        | |               #\\n#             _____) )   _ \\\\ \\\\/ / |_  ____| |               #\\n#            |  ____/ | | | )  (|  _)/ _  | |               #\\n#            | |    | |_| |/ /\\\\ \\\\ |_( (_| | |___            #\\n#            |_|     \\\\__  /_/  \\\\_\\\\___)__|_|_____)           #\\n#                   (____/                                  #\\n#---------------------(version    0.5.1)--------------------#\\n#       A Python package for random crystal generation      #\\n#       url: https://github.com/qzhu2017/pyxtal             #\\n#       @Zhu's group at University of Nevada Las Vegas      #\\n#############################################################\\ndata_from_pyxtal\\n\\n_symmetry_space_group_name_H-M 'R3'\\n_symmetry_Int_Tables_number                  146\\n_symmetry_cell_setting                 hexagonal\\n_cell_length_a            3.196144\\n_cell_length_b            3.196144\\n_cell_length_c            7.792288\\n_cell_angle_alpha        90.000000\\n_cell_angle_beta         90.000000\\n_cell_angle_gamma       120.000000\\n_cell_volume             68.936338\\n\\nloop_\\n _symmetry_equiv_pos_site_id\\n _symmetry_equiv_pos_as_xyz\\n1 'x, y, z'\\n2 '-y, x-y, z'\\n3 '-x+y, -x, z'\\n4 'x+2/3, y+1/3, z+1/3'\\n5 '-y+2/3, x-y+1/3, z+1/3'\\n6 '-x+y+2/3, -x+1/3, z+1/3'\\n7 'x+1/3, y+2/3, z+2/3'\\n8 '-y+1/3, x-y+2/3, z+2/3'\\n9 '-x+y+1/3, -x+2/3, z+2/3'\\n\\nloop_\\n _atom_site_label\\n _atom_site_type_symbol\\n _atom_site_symmetry_multiplicity\\n _atom_site_fract_x\\n _atom_site_fract_y\\n _atom_site_fract_z\\n _atom_site_occupancy\\nC      C        3     0.000000    0.000000    0.124534 1\\nSi     Si       3     0.000000    0.000000    0.876382 1\\n#END\\n\\n\",\"cif\",{\"doAssembly\": true, \"duplicateAssemblyAtoms\": true});\n",
       "\tviewer_1660222888253011.setStyle({\"sphere\": {\"colorscheme\": \"Jmol\", \"scale\": 0.25}, \"stick\": {\"colorscheme\": \"Jmol\", \"radius\": 0.1}});\n",
       "\tviewer_1660222888253011.addUnitCell();\n",
       "\tviewer_1660222888253011.replicateUnitCell(2,2,2);\n",
       "\tviewer_1660222888253011.zoomTo();\n",
       "viewer_1660222888253011.render();\n",
       "});\n",
       "</script>"
      ]
     },
     "metadata": {},
     "output_type": "display_data"
    },
    {
     "data": {
      "text/plain": [
       "<py3Dmol.view at 0x7f7c76c45dd0>"
      ]
     },
     "execution_count": 8,
     "metadata": {},
     "output_type": "execute_result"
    }
   ],
   "source": [
    "#play substitution\n",
    "permutation = {\"C\":\"Si\"}\n",
    "SiC = C1.subgroup_once(eps=0.01, H=None, perms=permutation)\n",
    "print(C1)\n",
    "print(SiC)\n",
    "SiC.show(supercell=(2,2,2))"
   ]
  },
  {
   "cell_type": "markdown",
   "metadata": {},
   "source": [
    "# 1.4 Supergroup symmetry"
   ]
  },
  {
   "cell_type": "code",
   "execution_count": 9,
   "metadata": {
    "scrolled": false
   },
   "outputs": [
    {
     "name": "stdout",
     "output_type": "stream",
     "text": [
      "\n",
      "------Crystal from Seed------\n",
      "Dimension: 3\n",
      "Composition: Si3O6\n",
      "Group: P 32 2 1 (154)\n",
      "  5.0278,   5.0278,   5.5189,  90.0000,  90.0000, 120.0000, hexagonal\n",
      "Wyckoff sites:\n",
      "\tSi @ [ 0.4773  0.0000  0.6667], WP [3a] Site [.2.]\n",
      "\t O @ [ 0.1607  0.7457  0.5373], WP [6c] Site [1]\n"
     ]
    },
    {
     "data": {
      "application/3dmoljs_load.v0": "<div id=\"3dmolviewer_1660222888528995\"  style=\"position: relative; width: 600px; height: 300px\">\n        <p id=\"3dmolwarning_1660222888528995\" style=\"background-color:#ffcccc;color:black\">You appear to be running in JupyterLab (or JavaScript failed to load for some other reason).  You need to install the 3dmol extension: <br>\n        <tt>jupyter labextension install jupyterlab_3dmol</tt></p>\n        </div>\n<script>\n\nvar loadScriptAsync = function(uri){\n  return new Promise((resolve, reject) => {\n    var tag = document.createElement('script');\n    tag.src = uri;\n    tag.async = true;\n    tag.onload = () => {\n      resolve();\n    };\n  var firstScriptTag = document.getElementsByTagName('script')[0];\n  firstScriptTag.parentNode.insertBefore(tag, firstScriptTag);\n});\n};\n\nif(typeof $3Dmolpromise === 'undefined') {\n$3Dmolpromise = null;\n  $3Dmolpromise = loadScriptAsync('https://3dmol.org/build/3Dmol.js');\n}\n\nvar viewer_1660222888528995 = null;\nvar warn = document.getElementById(\"3dmolwarning_1660222888528995\");\nif(warn) {\n    warn.parentNode.removeChild(warn);\n}\n$3Dmolpromise.then(function() {\nviewer_1660222888528995 = $3Dmol.createViewer($(\"#3dmolviewer_1660222888528995\"),{backgroundColor:\"white\"});\nviewer_1660222888528995.zoomTo();\n\tviewer_1660222888528995.addModel(\"#############################################################\\n#             ______       _    _          _                #\\n#            (_____ \\\\     \\\\ \\\\  / /        | |               #\\n#             _____) )   _ \\\\ \\\\/ / |_  ____| |               #\\n#            |  ____/ | | | )  (|  _)/ _  | |               #\\n#            | |    | |_| |/ /\\\\ \\\\ |_( (_| | |___            #\\n#            |_|     \\\\__  /_/  \\\\_\\\\___)__|_|_____)           #\\n#                   (____/                                  #\\n#---------------------(version    0.5.1)--------------------#\\n#       A Python package for random crystal generation      #\\n#       url: https://github.com/qzhu2017/pyxtal             #\\n#       @Zhu's group at University of Nevada Las Vegas      #\\n#############################################################\\ndata_from_pyxtal\\n\\n_symmetry_space_group_name_H-M 'P3221'\\n_symmetry_Int_Tables_number                  154\\n_symmetry_cell_setting                 hexagonal\\n_cell_length_a            5.027782\\n_cell_length_b            5.027782\\n_cell_length_c            5.518918\\n_cell_angle_alpha        90.000000\\n_cell_angle_beta         90.000000\\n_cell_angle_gamma       120.000000\\n_cell_volume            120.819618\\n\\nloop_\\n _symmetry_equiv_pos_site_id\\n _symmetry_equiv_pos_as_xyz\\n1 'x, y, z'\\n2 '-y, x-y, z+2/3'\\n3 '-x+y, -x, z+1/3'\\n4 'y, x, -z'\\n5 'x-y, -y, -z+1/3'\\n6 '-x, -x+y, -z+2/3'\\n\\nloop_\\n _atom_site_label\\n _atom_site_type_symbol\\n _atom_site_symmetry_multiplicity\\n _atom_site_fract_x\\n _atom_site_fract_y\\n _atom_site_fract_z\\n _atom_site_occupancy\\nSi     Si       3     0.477290    0.000000    0.666667 1\\nO      O        6     0.160740    0.745703    0.537334 1\\n#END\\n\\n\",\"cif\",{\"doAssembly\": true, \"duplicateAssemblyAtoms\": true});\n\tviewer_1660222888528995.setStyle({\"sphere\": {\"colorscheme\": \"Jmol\", \"scale\": 0.25}, \"stick\": {\"colorscheme\": \"Jmol\", \"radius\": 0.1}});\n\tviewer_1660222888528995.addUnitCell();\n\tviewer_1660222888528995.replicateUnitCell(1,1,1);\n\tviewer_1660222888528995.zoomTo();\nviewer_1660222888528995.render();\n});\n</script>",
      "text/html": [
       "<div id=\"3dmolviewer_1660222888528995\"  style=\"position: relative; width: 600px; height: 300px\">\n",
       "        <p id=\"3dmolwarning_1660222888528995\" style=\"background-color:#ffcccc;color:black\">You appear to be running in JupyterLab (or JavaScript failed to load for some other reason).  You need to install the 3dmol extension: <br>\n",
       "        <tt>jupyter labextension install jupyterlab_3dmol</tt></p>\n",
       "        </div>\n",
       "<script>\n",
       "\n",
       "var loadScriptAsync = function(uri){\n",
       "  return new Promise((resolve, reject) => {\n",
       "    var tag = document.createElement('script');\n",
       "    tag.src = uri;\n",
       "    tag.async = true;\n",
       "    tag.onload = () => {\n",
       "      resolve();\n",
       "    };\n",
       "  var firstScriptTag = document.getElementsByTagName('script')[0];\n",
       "  firstScriptTag.parentNode.insertBefore(tag, firstScriptTag);\n",
       "});\n",
       "};\n",
       "\n",
       "if(typeof $3Dmolpromise === 'undefined') {\n",
       "$3Dmolpromise = null;\n",
       "  $3Dmolpromise = loadScriptAsync('https://3dmol.org/build/3Dmol.js');\n",
       "}\n",
       "\n",
       "var viewer_1660222888528995 = null;\n",
       "var warn = document.getElementById(\"3dmolwarning_1660222888528995\");\n",
       "if(warn) {\n",
       "    warn.parentNode.removeChild(warn);\n",
       "}\n",
       "$3Dmolpromise.then(function() {\n",
       "viewer_1660222888528995 = $3Dmol.createViewer($(\"#3dmolviewer_1660222888528995\"),{backgroundColor:\"white\"});\n",
       "viewer_1660222888528995.zoomTo();\n",
       "\tviewer_1660222888528995.addModel(\"#############################################################\\n#             ______       _    _          _                #\\n#            (_____ \\\\     \\\\ \\\\  / /        | |               #\\n#             _____) )   _ \\\\ \\\\/ / |_  ____| |               #\\n#            |  ____/ | | | )  (|  _)/ _  | |               #\\n#            | |    | |_| |/ /\\\\ \\\\ |_( (_| | |___            #\\n#            |_|     \\\\__  /_/  \\\\_\\\\___)__|_|_____)           #\\n#                   (____/                                  #\\n#---------------------(version    0.5.1)--------------------#\\n#       A Python package for random crystal generation      #\\n#       url: https://github.com/qzhu2017/pyxtal             #\\n#       @Zhu's group at University of Nevada Las Vegas      #\\n#############################################################\\ndata_from_pyxtal\\n\\n_symmetry_space_group_name_H-M 'P3221'\\n_symmetry_Int_Tables_number                  154\\n_symmetry_cell_setting                 hexagonal\\n_cell_length_a            5.027782\\n_cell_length_b            5.027782\\n_cell_length_c            5.518918\\n_cell_angle_alpha        90.000000\\n_cell_angle_beta         90.000000\\n_cell_angle_gamma       120.000000\\n_cell_volume            120.819618\\n\\nloop_\\n _symmetry_equiv_pos_site_id\\n _symmetry_equiv_pos_as_xyz\\n1 'x, y, z'\\n2 '-y, x-y, z+2/3'\\n3 '-x+y, -x, z+1/3'\\n4 'y, x, -z'\\n5 'x-y, -y, -z+1/3'\\n6 '-x, -x+y, -z+2/3'\\n\\nloop_\\n _atom_site_label\\n _atom_site_type_symbol\\n _atom_site_symmetry_multiplicity\\n _atom_site_fract_x\\n _atom_site_fract_y\\n _atom_site_fract_z\\n _atom_site_occupancy\\nSi     Si       3     0.477290    0.000000    0.666667 1\\nO      O        6     0.160740    0.745703    0.537334 1\\n#END\\n\\n\",\"cif\",{\"doAssembly\": true, \"duplicateAssemblyAtoms\": true});\n",
       "\tviewer_1660222888528995.setStyle({\"sphere\": {\"colorscheme\": \"Jmol\", \"scale\": 0.25}, \"stick\": {\"colorscheme\": \"Jmol\", \"radius\": 0.1}});\n",
       "\tviewer_1660222888528995.addUnitCell();\n",
       "\tviewer_1660222888528995.replicateUnitCell(1,1,1);\n",
       "\tviewer_1660222888528995.zoomTo();\n",
       "viewer_1660222888528995.render();\n",
       "});\n",
       "</script>"
      ]
     },
     "metadata": {},
     "output_type": "display_data"
    },
    {
     "data": {
      "text/plain": [
       "<py3Dmol.view at 0x7f7c78050510>"
      ]
     },
     "execution_count": 9,
     "metadata": {},
     "output_type": "execute_result"
    }
   ],
   "source": [
    "# load the experimental alpha-quartz structure from the cif file\n",
    "\n",
    "lt_sio2 = pyxtal()\n",
    "lt_sio2.from_seed('lt_quartz.cif')\n",
    "print(lt_sio2)\n",
    "lt_sio2.show()"
   ]
  },
  {
   "cell_type": "code",
   "execution_count": 10,
   "metadata": {},
   "outputs": [
    {
     "name": "stdout",
     "output_type": "stream",
     "text": [
      "5 structures have been generated\n",
      "\n",
      "------Crystal from supergroup  0.847------\n",
      "Dimension: 3\n",
      "Composition: Si3O6\n",
      "Group: P 62 2 2 (180)\n",
      "  5.0278,   5.0278,   5.5189,  90.0000,  90.0000, 120.0000, hexagonal\n",
      "Wyckoff sites:\n",
      "\tSi @ [ 0.5000  0.0000  0.0000], WP [3c] Site [222.]\n",
      "\t O @ [ 0.5000  0.0000  0.7923], WP [6f] Site [2..]\n"
     ]
    },
    {
     "data": {
      "application/3dmoljs_load.v0": "<div id=\"3dmolviewer_1660222891680195\"  style=\"position: relative; width: 600px; height: 300px\">\n        <p id=\"3dmolwarning_1660222891680195\" style=\"background-color:#ffcccc;color:black\">You appear to be running in JupyterLab (or JavaScript failed to load for some other reason).  You need to install the 3dmol extension: <br>\n        <tt>jupyter labextension install jupyterlab_3dmol</tt></p>\n        </div>\n<script>\n\nvar loadScriptAsync = function(uri){\n  return new Promise((resolve, reject) => {\n    var tag = document.createElement('script');\n    tag.src = uri;\n    tag.async = true;\n    tag.onload = () => {\n      resolve();\n    };\n  var firstScriptTag = document.getElementsByTagName('script')[0];\n  firstScriptTag.parentNode.insertBefore(tag, firstScriptTag);\n});\n};\n\nif(typeof $3Dmolpromise === 'undefined') {\n$3Dmolpromise = null;\n  $3Dmolpromise = loadScriptAsync('https://3dmol.org/build/3Dmol.js');\n}\n\nvar viewer_1660222891680195 = null;\nvar warn = document.getElementById(\"3dmolwarning_1660222891680195\");\nif(warn) {\n    warn.parentNode.removeChild(warn);\n}\n$3Dmolpromise.then(function() {\nviewer_1660222891680195 = $3Dmol.createViewer($(\"#3dmolviewer_1660222891680195\"),{backgroundColor:\"white\"});\nviewer_1660222891680195.zoomTo();\n\tviewer_1660222891680195.addModel(\"#############################################################\\n#             ______       _    _          _                #\\n#            (_____ \\\\     \\\\ \\\\  / /        | |               #\\n#             _____) )   _ \\\\ \\\\/ / |_  ____| |               #\\n#            |  ____/ | | | )  (|  _)/ _  | |               #\\n#            | |    | |_| |/ /\\\\ \\\\ |_( (_| | |___            #\\n#            |_|     \\\\__  /_/  \\\\_\\\\___)__|_|_____)           #\\n#                   (____/                                  #\\n#---------------------(version    0.5.1)--------------------#\\n#       A Python package for random crystal generation      #\\n#       url: https://github.com/qzhu2017/pyxtal             #\\n#       @Zhu's group at University of Nevada Las Vegas      #\\n#############################################################\\ndata_from_pyxtal\\n\\n_symmetry_space_group_name_H-M 'P6222'\\n_symmetry_Int_Tables_number                  180\\n_symmetry_cell_setting                 hexagonal\\n_cell_length_a            5.027782\\n_cell_length_b            5.027782\\n_cell_length_c            5.518918\\n_cell_angle_alpha        90.000000\\n_cell_angle_beta         90.000000\\n_cell_angle_gamma       120.000000\\n_cell_volume            120.819618\\n\\nloop_\\n _symmetry_equiv_pos_site_id\\n _symmetry_equiv_pos_as_xyz\\n1 'x, y, z'\\n2 '-y, x-y, z+2/3'\\n3 '-x+y, -x, z+1/3'\\n4 '-x, -y, z'\\n5 'y, -x+y, z+2/3'\\n6 'x-y, x, z+1/3'\\n7 'y, x, -z+2/3'\\n8 'x-y, -y, -z'\\n9 '-x, -x+y, -z+1/3'\\n10 '-y, -x, -z+2/3'\\n11 '-x+y, y, -z'\\n12 'x, x-y, -z+1/3'\\n\\nloop_\\n _atom_site_label\\n _atom_site_type_symbol\\n _atom_site_symmetry_multiplicity\\n _atom_site_fract_x\\n _atom_site_fract_y\\n _atom_site_fract_z\\n _atom_site_occupancy\\nSi     Si       3     0.500000    0.000000    0.000000 1\\nO      O        6     0.500000    0.000000    0.792333 1\\n#END\\n\\n\",\"cif\",{\"doAssembly\": true, \"duplicateAssemblyAtoms\": true});\n\tviewer_1660222891680195.setStyle({\"sphere\": {\"colorscheme\": \"Jmol\", \"scale\": 0.25}, \"stick\": {\"colorscheme\": \"Jmol\", \"radius\": 0.1}});\n\tviewer_1660222891680195.addUnitCell();\n\tviewer_1660222891680195.replicateUnitCell(1,1,1);\n\tviewer_1660222891680195.zoomTo();\nviewer_1660222891680195.render();\n});\n</script>",
      "text/html": [
       "<div id=\"3dmolviewer_1660222891680195\"  style=\"position: relative; width: 600px; height: 300px\">\n",
       "        <p id=\"3dmolwarning_1660222891680195\" style=\"background-color:#ffcccc;color:black\">You appear to be running in JupyterLab (or JavaScript failed to load for some other reason).  You need to install the 3dmol extension: <br>\n",
       "        <tt>jupyter labextension install jupyterlab_3dmol</tt></p>\n",
       "        </div>\n",
       "<script>\n",
       "\n",
       "var loadScriptAsync = function(uri){\n",
       "  return new Promise((resolve, reject) => {\n",
       "    var tag = document.createElement('script');\n",
       "    tag.src = uri;\n",
       "    tag.async = true;\n",
       "    tag.onload = () => {\n",
       "      resolve();\n",
       "    };\n",
       "  var firstScriptTag = document.getElementsByTagName('script')[0];\n",
       "  firstScriptTag.parentNode.insertBefore(tag, firstScriptTag);\n",
       "});\n",
       "};\n",
       "\n",
       "if(typeof $3Dmolpromise === 'undefined') {\n",
       "$3Dmolpromise = null;\n",
       "  $3Dmolpromise = loadScriptAsync('https://3dmol.org/build/3Dmol.js');\n",
       "}\n",
       "\n",
       "var viewer_1660222891680195 = null;\n",
       "var warn = document.getElementById(\"3dmolwarning_1660222891680195\");\n",
       "if(warn) {\n",
       "    warn.parentNode.removeChild(warn);\n",
       "}\n",
       "$3Dmolpromise.then(function() {\n",
       "viewer_1660222891680195 = $3Dmol.createViewer($(\"#3dmolviewer_1660222891680195\"),{backgroundColor:\"white\"});\n",
       "viewer_1660222891680195.zoomTo();\n",
       "\tviewer_1660222891680195.addModel(\"#############################################################\\n#             ______       _    _          _                #\\n#            (_____ \\\\     \\\\ \\\\  / /        | |               #\\n#             _____) )   _ \\\\ \\\\/ / |_  ____| |               #\\n#            |  ____/ | | | )  (|  _)/ _  | |               #\\n#            | |    | |_| |/ /\\\\ \\\\ |_( (_| | |___            #\\n#            |_|     \\\\__  /_/  \\\\_\\\\___)__|_|_____)           #\\n#                   (____/                                  #\\n#---------------------(version    0.5.1)--------------------#\\n#       A Python package for random crystal generation      #\\n#       url: https://github.com/qzhu2017/pyxtal             #\\n#       @Zhu's group at University of Nevada Las Vegas      #\\n#############################################################\\ndata_from_pyxtal\\n\\n_symmetry_space_group_name_H-M 'P6222'\\n_symmetry_Int_Tables_number                  180\\n_symmetry_cell_setting                 hexagonal\\n_cell_length_a            5.027782\\n_cell_length_b            5.027782\\n_cell_length_c            5.518918\\n_cell_angle_alpha        90.000000\\n_cell_angle_beta         90.000000\\n_cell_angle_gamma       120.000000\\n_cell_volume            120.819618\\n\\nloop_\\n _symmetry_equiv_pos_site_id\\n _symmetry_equiv_pos_as_xyz\\n1 'x, y, z'\\n2 '-y, x-y, z+2/3'\\n3 '-x+y, -x, z+1/3'\\n4 '-x, -y, z'\\n5 'y, -x+y, z+2/3'\\n6 'x-y, x, z+1/3'\\n7 'y, x, -z+2/3'\\n8 'x-y, -y, -z'\\n9 '-x, -x+y, -z+1/3'\\n10 '-y, -x, -z+2/3'\\n11 '-x+y, y, -z'\\n12 'x, x-y, -z+1/3'\\n\\nloop_\\n _atom_site_label\\n _atom_site_type_symbol\\n _atom_site_symmetry_multiplicity\\n _atom_site_fract_x\\n _atom_site_fract_y\\n _atom_site_fract_z\\n _atom_site_occupancy\\nSi     Si       3     0.500000    0.000000    0.000000 1\\nO      O        6     0.500000    0.000000    0.792333 1\\n#END\\n\\n\",\"cif\",{\"doAssembly\": true, \"duplicateAssemblyAtoms\": true});\n",
       "\tviewer_1660222891680195.setStyle({\"sphere\": {\"colorscheme\": \"Jmol\", \"scale\": 0.25}, \"stick\": {\"colorscheme\": \"Jmol\", \"radius\": 0.1}});\n",
       "\tviewer_1660222891680195.addUnitCell();\n",
       "\tviewer_1660222891680195.replicateUnitCell(1,1,1);\n",
       "\tviewer_1660222891680195.zoomTo();\n",
       "viewer_1660222891680195.render();\n",
       "});\n",
       "</script>"
      ]
     },
     "metadata": {},
     "output_type": "display_data"
    },
    {
     "data": {
      "text/plain": [
       "<py3Dmol.view at 0x7f7c77908250>"
      ]
     },
     "execution_count": 10,
     "metadata": {},
     "output_type": "execute_result"
    }
   ],
   "source": [
    "# Here we search for the high temperature phase\n",
    "\n",
    "ht_sio2, _ = lt_sio2.supergroup(G=180)\n",
    "print(len(ht_sio2), 'structures have been generated')\n",
    "print(ht_sio2[-1])\n",
    "ht_sio2[-1].show()"
   ]
  },
  {
   "cell_type": "markdown",
   "metadata": {},
   "source": [
    "# 1.5 Exporting the structure"
   ]
  },
  {
   "cell_type": "code",
   "execution_count": 11,
   "metadata": {},
   "outputs": [
    {
     "name": "stdout",
     "output_type": "stream",
     "text": [
      "Atoms(symbols='C8', pbc=True, cell=[[4.520029655601712, 2.7677199248918747e-16, 2.7677199248918747e-16], [0.0, 4.520029655601712, 2.7677199248918747e-16], [0.0, 0.0, 4.520029655601712]])\n",
      "Full Formula (C8)\n",
      "Reduced Formula: C\n",
      "abc   :   4.520030   4.520030   4.520030\n",
      "angles:  90.000000  90.000000  90.000000\n",
      "Sites (8)\n",
      "  #  SP        a      b      c\n",
      "---  ----  -----  -----  -----\n",
      "  0  C     0.125  0.125  0.125\n",
      "  1  C     0.875  0.375  0.375\n",
      "  2  C     0.125  0.625  0.625\n",
      "  3  C     0.875  0.875  0.875\n",
      "  4  C     0.625  0.125  0.625\n",
      "  5  C     1.375  0.375  0.875\n",
      "  6  C     0.625  0.625  0.125\n",
      "  7  C     1.375  0.875  0.375\n"
     ]
    }
   ],
   "source": [
    "#In general, you can export the structure in several ways\n",
    "\n",
    "# CIF/POSCAR file\n",
    "C1.to_file('1.cif')\n",
    "C1.to_ase().write('1.vasp', format='vasp', vasp5=True)\n",
    "\n",
    "# ASE's atoms object\n",
    "ase_struc = C1.to_ase()\n",
    "print(ase_struc)\n",
    "\n",
    "# Pymatgen object\n",
    "pmg_struc = C1.to_pymatgen()\n",
    "print(pmg_struc)"
   ]
  },
  {
   "cell_type": "markdown",
   "metadata": {},
   "source": [
    "# 1.6 Low dimensional systems"
   ]
  },
  {
   "cell_type": "code",
   "execution_count": 12,
   "metadata": {},
   "outputs": [
    {
     "data": {
      "application/3dmoljs_load.v0": "<div id=\"3dmolviewer_16602228932136052\"  style=\"position: relative; width: 600px; height: 300px\">\n        <p id=\"3dmolwarning_16602228932136052\" style=\"background-color:#ffcccc;color:black\">You appear to be running in JupyterLab (or JavaScript failed to load for some other reason).  You need to install the 3dmol extension: <br>\n        <tt>jupyter labextension install jupyterlab_3dmol</tt></p>\n        </div>\n<script>\n\nvar loadScriptAsync = function(uri){\n  return new Promise((resolve, reject) => {\n    var tag = document.createElement('script');\n    tag.src = uri;\n    tag.async = true;\n    tag.onload = () => {\n      resolve();\n    };\n  var firstScriptTag = document.getElementsByTagName('script')[0];\n  firstScriptTag.parentNode.insertBefore(tag, firstScriptTag);\n});\n};\n\nif(typeof $3Dmolpromise === 'undefined') {\n$3Dmolpromise = null;\n  $3Dmolpromise = loadScriptAsync('https://3dmol.org/build/3Dmol.js');\n}\n\nvar viewer_16602228932136052 = null;\nvar warn = document.getElementById(\"3dmolwarning_16602228932136052\");\nif(warn) {\n    warn.parentNode.removeChild(warn);\n}\n$3Dmolpromise.then(function() {\nviewer_16602228932136052 = $3Dmol.createViewer($(\"#3dmolviewer_16602228932136052\"),{backgroundColor:\"white\"});\nviewer_16602228932136052.zoomTo();\n\tviewer_16602228932136052.addModel(\"# generated using pymatgen\\ndata_C\\n_symmetry_space_group_name_H-M   'P 1'\\n_cell_length_a   6.98605704\\n_cell_length_b   6.98605704\\n_cell_length_c   18.00000000\\n_cell_angle_alpha   90.00000000\\n_cell_angle_beta   90.00000000\\n_cell_angle_gamma   120.00000000\\n_symmetry_Int_Tables_number   1\\n_chemical_formula_structural   C\\n_chemical_formula_sum   C6\\n_cell_volume   760.79454794\\n_cell_formula_units_Z   6\\nloop_\\n _symmetry_equiv_pos_site_id\\n _symmetry_equiv_pos_as_xyz\\n  1  'x, y, z'\\nloop_\\n _atom_site_type_symbol\\n _atom_site_label\\n _atom_site_symmetry_multiplicity\\n _atom_site_fract_x\\n _atom_site_fract_y\\n _atom_site_fract_z\\n _atom_site_occupancy\\n  C  C0  1  0.33333333  0.66666667  0.41666667  1\\n  C  C1  1  0.66666667  0.33333333  0.41666667  1\\n  C  C2  1  0.33333333  0.66666667  0.50000000  1\\n  C  C3  1  0.66666667  0.33333333  0.50000000  1\\n  C  C4  1  0.33333333  0.66666667  0.33333333  1\\n  C  C5  1  0.66666667  0.33333333  0.33333333  1\\n\",\"cif\",{\"doAssembly\": true, \"duplicateAssemblyAtoms\": true});\n\tviewer_16602228932136052.setStyle({\"sphere\": {\"colorscheme\": \"Jmol\", \"scale\": 0.2}, \"stick\": {\"colorscheme\": \"Jmol\", \"radius\": 0.1}});\n\tviewer_16602228932136052.addUnitCell();\n\tviewer_16602228932136052.replicateUnitCell(1,1,1);\n\tviewer_16602228932136052.zoomTo();\nviewer_16602228932136052.render();\n});\n</script>",
      "text/html": [
       "<div id=\"3dmolviewer_16602228932136052\"  style=\"position: relative; width: 600px; height: 300px\">\n",
       "        <p id=\"3dmolwarning_16602228932136052\" style=\"background-color:#ffcccc;color:black\">You appear to be running in JupyterLab (or JavaScript failed to load for some other reason).  You need to install the 3dmol extension: <br>\n",
       "        <tt>jupyter labextension install jupyterlab_3dmol</tt></p>\n",
       "        </div>\n",
       "<script>\n",
       "\n",
       "var loadScriptAsync = function(uri){\n",
       "  return new Promise((resolve, reject) => {\n",
       "    var tag = document.createElement('script');\n",
       "    tag.src = uri;\n",
       "    tag.async = true;\n",
       "    tag.onload = () => {\n",
       "      resolve();\n",
       "    };\n",
       "  var firstScriptTag = document.getElementsByTagName('script')[0];\n",
       "  firstScriptTag.parentNode.insertBefore(tag, firstScriptTag);\n",
       "});\n",
       "};\n",
       "\n",
       "if(typeof $3Dmolpromise === 'undefined') {\n",
       "$3Dmolpromise = null;\n",
       "  $3Dmolpromise = loadScriptAsync('https://3dmol.org/build/3Dmol.js');\n",
       "}\n",
       "\n",
       "var viewer_16602228932136052 = null;\n",
       "var warn = document.getElementById(\"3dmolwarning_16602228932136052\");\n",
       "if(warn) {\n",
       "    warn.parentNode.removeChild(warn);\n",
       "}\n",
       "$3Dmolpromise.then(function() {\n",
       "viewer_16602228932136052 = $3Dmol.createViewer($(\"#3dmolviewer_16602228932136052\"),{backgroundColor:\"white\"});\n",
       "viewer_16602228932136052.zoomTo();\n",
       "\tviewer_16602228932136052.addModel(\"# generated using pymatgen\\ndata_C\\n_symmetry_space_group_name_H-M   'P 1'\\n_cell_length_a   6.98605704\\n_cell_length_b   6.98605704\\n_cell_length_c   18.00000000\\n_cell_angle_alpha   90.00000000\\n_cell_angle_beta   90.00000000\\n_cell_angle_gamma   120.00000000\\n_symmetry_Int_Tables_number   1\\n_chemical_formula_structural   C\\n_chemical_formula_sum   C6\\n_cell_volume   760.79454794\\n_cell_formula_units_Z   6\\nloop_\\n _symmetry_equiv_pos_site_id\\n _symmetry_equiv_pos_as_xyz\\n  1  'x, y, z'\\nloop_\\n _atom_site_type_symbol\\n _atom_site_label\\n _atom_site_symmetry_multiplicity\\n _atom_site_fract_x\\n _atom_site_fract_y\\n _atom_site_fract_z\\n _atom_site_occupancy\\n  C  C0  1  0.33333333  0.66666667  0.41666667  1\\n  C  C1  1  0.66666667  0.33333333  0.41666667  1\\n  C  C2  1  0.33333333  0.66666667  0.50000000  1\\n  C  C3  1  0.66666667  0.33333333  0.50000000  1\\n  C  C4  1  0.33333333  0.66666667  0.33333333  1\\n  C  C5  1  0.66666667  0.33333333  0.33333333  1\\n\",\"cif\",{\"doAssembly\": true, \"duplicateAssemblyAtoms\": true});\n",
       "\tviewer_16602228932136052.setStyle({\"sphere\": {\"colorscheme\": \"Jmol\", \"scale\": 0.2}, \"stick\": {\"colorscheme\": \"Jmol\", \"radius\": 0.1}});\n",
       "\tviewer_16602228932136052.addUnitCell();\n",
       "\tviewer_16602228932136052.replicateUnitCell(1,1,1);\n",
       "\tviewer_16602228932136052.zoomTo();\n",
       "viewer_16602228932136052.render();\n",
       "});\n",
       "</script>"
      ]
     },
     "metadata": {},
     "output_type": "display_data"
    },
    {
     "data": {
      "text/plain": [
       "<py3Dmol.view at 0x7f7c77ca9510>"
      ]
     },
     "execution_count": 12,
     "metadata": {},
     "output_type": "execute_result"
    }
   ],
   "source": [
    "# An example to generate 2D atomic crystal\n",
    "C3 = pyxtal()\n",
    "C3.from_random(2, 75, ['C'], [6], thickness=0.0)\n",
    "C3.show(scale=0.2)"
   ]
  },
  {
   "cell_type": "code",
   "execution_count": 13,
   "metadata": {},
   "outputs": [
    {
     "name": "stderr",
     "output_type": "stream",
     "text": [
      "==============================\n",
      "*** Open Babel Error  in LoadAllPlugins\n",
      "  Unable to find OpenBabel plugins. Try setting the BABEL_LIBDIR environment variable.\n"
     ]
    },
    {
     "data": {
      "application/3dmoljs_load.v0": "<div id=\"3dmolviewer_1660222900091796\"  style=\"position: relative; width: 600px; height: 300px\">\n        <p id=\"3dmolwarning_1660222900091796\" style=\"background-color:#ffcccc;color:black\">You appear to be running in JupyterLab (or JavaScript failed to load for some other reason).  You need to install the 3dmol extension: <br>\n        <tt>jupyter labextension install jupyterlab_3dmol</tt></p>\n        </div>\n<script>\n\nvar loadScriptAsync = function(uri){\n  return new Promise((resolve, reject) => {\n    var tag = document.createElement('script');\n    tag.src = uri;\n    tag.async = true;\n    tag.onload = () => {\n      resolve();\n    };\n  var firstScriptTag = document.getElementsByTagName('script')[0];\n  firstScriptTag.parentNode.insertBefore(tag, firstScriptTag);\n});\n};\n\nif(typeof $3Dmolpromise === 'undefined') {\n$3Dmolpromise = null;\n  $3Dmolpromise = loadScriptAsync('https://3dmol.org/build/3Dmol.js');\n}\n\nvar viewer_1660222900091796 = null;\nvar warn = document.getElementById(\"3dmolwarning_1660222900091796\");\nif(warn) {\n    warn.parentNode.removeChild(warn);\n}\n$3Dmolpromise.then(function() {\nviewer_1660222900091796 = $3Dmol.createViewer($(\"#3dmolviewer_1660222900091796\"),{backgroundColor:\"white\"});\nviewer_1660222900091796.zoomTo();\n\tviewer_1660222900091796.addModel(\"60\\nC60\\nC 0.000000 -0.787948 3.676324\\nC 1.200699 -1.530021 3.217698\\nC -2.475625 -0.742073 -2.730719\\nC -2.475625 0.742073 -2.730719\\nC 1.530021 -3.217698 -1.200699\\nC -1.200699 1.530021 -3.217698\\nC 0.742073 2.730719 2.475625\\nC -1.530021 -3.217698 1.200699\\nC -2.730719 2.475625 -0.742073\\nC -2.475625 -0.742073 2.730719\\nC 0.742073 -2.730719 2.475625\\nC 0.000000 -0.787948 -3.676324\\nC -3.676324 -0.000000 -0.787948\\nC -3.217698 1.200699 -1.530021\\nC 0.000000 0.787948 -3.676324\\nC 3.676324 0.000000 -0.787948\\nC 3.217698 -1.200699 -1.530021\\nC 1.530021 -3.217698 1.200699\\nC 1.200699 1.530021 -3.217698\\nC -1.200699 -1.530021 3.217698\\nC -0.742073 2.730719 -2.475625\\nC 2.730719 2.475625 0.742073\\nC 2.730719 2.475625 -0.742073\\nC -0.742073 2.730719 2.475625\\nC 2.475625 0.742073 -2.730719\\nC 2.475625 -0.742073 -2.730719\\nC -0.742073 -2.730719 -2.475625\\nC -1.530021 3.217698 1.200699\\nC -1.200699 -1.530021 -3.217698\\nC 1.200699 1.530021 3.217698\\nC 1.530021 3.217698 -1.200699\\nC 0.000000 0.787948 3.676324\\nC -3.676324 -0.000000 0.787948\\nC -0.787948 -3.676324 -0.000000\\nC -2.475625 0.742073 2.730719\\nC 2.730719 -2.475625 0.742073\\nC -3.217698 1.200699 1.530021\\nC 3.676324 0.000000 0.787948\\nC 0.787948 3.676324 0.000000\\nC 1.530021 3.217698 1.200699\\nC 2.730719 -2.475625 -0.742073\\nC -1.530021 -3.217698 -1.200699\\nC -1.200699 1.530021 3.217698\\nC 2.475625 0.742073 2.730719\\nC 2.475625 -0.742073 2.730719\\nC -2.730719 2.475625 0.742073\\nC 3.217698 -1.200699 1.530021\\nC -0.787948 3.676324 0.000000\\nC -1.530021 3.217698 -1.200699\\nC 0.787948 -3.676324 -0.000000\\nC 1.200699 -1.530021 -3.217698\\nC -0.742073 -2.730719 2.475625\\nC 0.742073 2.730719 -2.475625\\nC 3.217698 1.200699 -1.530021\\nC -2.730719 -2.475625 -0.742073\\nC -2.730719 -2.475625 0.742073\\nC 0.742073 -2.730719 -2.475625\\nC -3.217698 -1.200699 -1.530021\\nC -3.217698 -1.200699 1.530021\\nC 3.217698 1.200699 1.530021\",\"xyz\",{\"doAssembly\": true, \"duplicateAssemblyAtoms\": true});\n\tviewer_1660222900091796.setStyle({\"sphere\": {\"colorscheme\": \"Jmol\", \"scale\": 0.2}, \"stick\": {\"colorscheme\": \"Jmol\", \"radius\": 0.1}});\n\tviewer_1660222900091796.zoomTo();\nviewer_1660222900091796.render();\n});\n</script>",
      "text/html": [
       "<div id=\"3dmolviewer_1660222900091796\"  style=\"position: relative; width: 600px; height: 300px\">\n",
       "        <p id=\"3dmolwarning_1660222900091796\" style=\"background-color:#ffcccc;color:black\">You appear to be running in JupyterLab (or JavaScript failed to load for some other reason).  You need to install the 3dmol extension: <br>\n",
       "        <tt>jupyter labextension install jupyterlab_3dmol</tt></p>\n",
       "        </div>\n",
       "<script>\n",
       "\n",
       "var loadScriptAsync = function(uri){\n",
       "  return new Promise((resolve, reject) => {\n",
       "    var tag = document.createElement('script');\n",
       "    tag.src = uri;\n",
       "    tag.async = true;\n",
       "    tag.onload = () => {\n",
       "      resolve();\n",
       "    };\n",
       "  var firstScriptTag = document.getElementsByTagName('script')[0];\n",
       "  firstScriptTag.parentNode.insertBefore(tag, firstScriptTag);\n",
       "});\n",
       "};\n",
       "\n",
       "if(typeof $3Dmolpromise === 'undefined') {\n",
       "$3Dmolpromise = null;\n",
       "  $3Dmolpromise = loadScriptAsync('https://3dmol.org/build/3Dmol.js');\n",
       "}\n",
       "\n",
       "var viewer_1660222900091796 = null;\n",
       "var warn = document.getElementById(\"3dmolwarning_1660222900091796\");\n",
       "if(warn) {\n",
       "    warn.parentNode.removeChild(warn);\n",
       "}\n",
       "$3Dmolpromise.then(function() {\n",
       "viewer_1660222900091796 = $3Dmol.createViewer($(\"#3dmolviewer_1660222900091796\"),{backgroundColor:\"white\"});\n",
       "viewer_1660222900091796.zoomTo();\n",
       "\tviewer_1660222900091796.addModel(\"60\\nC60\\nC 0.000000 -0.787948 3.676324\\nC 1.200699 -1.530021 3.217698\\nC -2.475625 -0.742073 -2.730719\\nC -2.475625 0.742073 -2.730719\\nC 1.530021 -3.217698 -1.200699\\nC -1.200699 1.530021 -3.217698\\nC 0.742073 2.730719 2.475625\\nC -1.530021 -3.217698 1.200699\\nC -2.730719 2.475625 -0.742073\\nC -2.475625 -0.742073 2.730719\\nC 0.742073 -2.730719 2.475625\\nC 0.000000 -0.787948 -3.676324\\nC -3.676324 -0.000000 -0.787948\\nC -3.217698 1.200699 -1.530021\\nC 0.000000 0.787948 -3.676324\\nC 3.676324 0.000000 -0.787948\\nC 3.217698 -1.200699 -1.530021\\nC 1.530021 -3.217698 1.200699\\nC 1.200699 1.530021 -3.217698\\nC -1.200699 -1.530021 3.217698\\nC -0.742073 2.730719 -2.475625\\nC 2.730719 2.475625 0.742073\\nC 2.730719 2.475625 -0.742073\\nC -0.742073 2.730719 2.475625\\nC 2.475625 0.742073 -2.730719\\nC 2.475625 -0.742073 -2.730719\\nC -0.742073 -2.730719 -2.475625\\nC -1.530021 3.217698 1.200699\\nC -1.200699 -1.530021 -3.217698\\nC 1.200699 1.530021 3.217698\\nC 1.530021 3.217698 -1.200699\\nC 0.000000 0.787948 3.676324\\nC -3.676324 -0.000000 0.787948\\nC -0.787948 -3.676324 -0.000000\\nC -2.475625 0.742073 2.730719\\nC 2.730719 -2.475625 0.742073\\nC -3.217698 1.200699 1.530021\\nC 3.676324 0.000000 0.787948\\nC 0.787948 3.676324 0.000000\\nC 1.530021 3.217698 1.200699\\nC 2.730719 -2.475625 -0.742073\\nC -1.530021 -3.217698 -1.200699\\nC -1.200699 1.530021 3.217698\\nC 2.475625 0.742073 2.730719\\nC 2.475625 -0.742073 2.730719\\nC -2.730719 2.475625 0.742073\\nC 3.217698 -1.200699 1.530021\\nC -0.787948 3.676324 0.000000\\nC -1.530021 3.217698 -1.200699\\nC 0.787948 -3.676324 -0.000000\\nC 1.200699 -1.530021 -3.217698\\nC -0.742073 -2.730719 2.475625\\nC 0.742073 2.730719 -2.475625\\nC 3.217698 1.200699 -1.530021\\nC -2.730719 -2.475625 -0.742073\\nC -2.730719 -2.475625 0.742073\\nC 0.742073 -2.730719 -2.475625\\nC -3.217698 -1.200699 -1.530021\\nC -3.217698 -1.200699 1.530021\\nC 3.217698 1.200699 1.530021\",\"xyz\",{\"doAssembly\": true, \"duplicateAssemblyAtoms\": true});\n",
       "\tviewer_1660222900091796.setStyle({\"sphere\": {\"colorscheme\": \"Jmol\", \"scale\": 0.2}, \"stick\": {\"colorscheme\": \"Jmol\", \"radius\": 0.1}});\n",
       "\tviewer_1660222900091796.zoomTo();\n",
       "viewer_1660222900091796.render();\n",
       "});\n",
       "</script>"
      ]
     },
     "metadata": {},
     "output_type": "display_data"
    },
    {
     "data": {
      "text/plain": [
       "<py3Dmol.view at 0x7f7c77ca98d0>"
      ]
     },
     "execution_count": 13,
     "metadata": {},
     "output_type": "execute_result"
    }
   ],
   "source": [
    "# An example to generate 0D atomic cluster\n",
    "C4 = pyxtal()\n",
    "C4.from_random(0, 'Ih', ['C'], [60])\n",
    "C4.show(scale=0.2)"
   ]
  },
  {
   "cell_type": "code",
   "execution_count": 14,
   "metadata": {},
   "outputs": [
    {
     "data": {
      "application/3dmoljs_load.v0": "<div id=\"3dmolviewer_1660222907432072\"  style=\"position: relative; width: 600px; height: 300px\">\n        <p id=\"3dmolwarning_1660222907432072\" style=\"background-color:#ffcccc;color:black\">You appear to be running in JupyterLab (or JavaScript failed to load for some other reason).  You need to install the 3dmol extension: <br>\n        <tt>jupyter labextension install jupyterlab_3dmol</tt></p>\n        </div>\n<script>\n\nvar loadScriptAsync = function(uri){\n  return new Promise((resolve, reject) => {\n    var tag = document.createElement('script');\n    tag.src = uri;\n    tag.async = true;\n    tag.onload = () => {\n      resolve();\n    };\n  var firstScriptTag = document.getElementsByTagName('script')[0];\n  firstScriptTag.parentNode.insertBefore(tag, firstScriptTag);\n});\n};\n\nif(typeof $3Dmolpromise === 'undefined') {\n$3Dmolpromise = null;\n  $3Dmolpromise = loadScriptAsync('https://3dmol.org/build/3Dmol.js');\n}\n\nvar viewer_1660222907432072 = null;\nvar warn = document.getElementById(\"3dmolwarning_1660222907432072\");\nif(warn) {\n    warn.parentNode.removeChild(warn);\n}\n$3Dmolpromise.then(function() {\nviewer_1660222907432072 = $3Dmol.createViewer($(\"#3dmolviewer_1660222907432072\"),{backgroundColor:\"white\"});\nviewer_1660222907432072.zoomTo();\n\tviewer_1660222907432072.addModel(\"60\\nC60\\nC 0.000000 1.009666 -4.451773\\nC -1.409049 1.880507 -3.913564\\nC 3.042724 0.870840 3.289556\\nC 3.042724 -0.870840 3.289556\\nC -1.880507 3.913564 1.409049\\nC 1.409049 -1.880507 3.913564\\nC -0.870840 -3.289556 -3.042724\\nC 1.880507 3.913564 -1.409049\\nC 3.289556 -3.042724 0.870840\\nC 3.042724 0.870840 -3.289556\\nC -0.870840 3.289556 -3.042724\\nC 0.000000 1.009666 4.451773\\nC 4.451773 0.000000 1.009666\\nC 3.913564 -1.409049 1.880507\\nC 0.000000 -1.009666 4.451773\\nC -4.451773 -0.000000 1.009666\\nC -3.913564 1.409049 1.880507\\nC -1.880507 3.913564 -1.409049\\nC -1.409049 -1.880507 3.913564\\nC 1.409049 1.880507 -3.913564\\nC 0.870840 -3.289556 3.042724\\nC -3.289556 -3.042724 -0.870840\\nC -3.289556 -3.042724 0.870840\\nC 0.870840 -3.289556 -3.042724\\nC -3.042724 -0.870840 3.289556\\nC -3.042724 0.870840 3.289556\\nC 0.870840 3.289556 3.042724\\nC 1.880507 -3.913564 -1.409049\\nC 1.409049 1.880507 3.913564\\nC -1.409049 -1.880507 -3.913564\\nC -1.880507 -3.913564 1.409049\\nC 0.000000 -1.009666 -4.451773\\nC 4.451773 0.000000 -1.009666\\nC 1.009666 4.451773 0.000000\\nC 3.042724 -0.870840 -3.289556\\nC -3.289556 3.042724 -0.870840\\nC 3.913564 -1.409049 -1.880507\\nC -4.451773 -0.000000 -1.009666\\nC -1.009666 -4.451773 -0.000000\\nC -1.880507 -3.913564 -1.409049\\nC -3.289556 3.042724 0.870840\\nC 1.880507 3.913564 1.409049\\nC 1.409049 -1.880507 -3.913564\\nC -3.042724 -0.870840 -3.289556\\nC -3.042724 0.870840 -3.289556\\nC 3.289556 -3.042724 -0.870840\\nC -3.913564 1.409049 -1.880507\\nC 1.009666 -4.451773 -0.000000\\nC 1.880507 -3.913564 1.409049\\nC -1.009666 4.451773 0.000000\\nC -1.409049 1.880507 3.913564\\nC 0.870840 3.289556 -3.042724\\nC -0.870840 -3.289556 3.042724\\nC -3.913564 -1.409049 1.880507\\nC 3.289556 3.042724 0.870840\\nC 3.289556 3.042724 -0.870840\\nC -0.870840 3.289556 3.042724\\nC 3.913564 1.409049 1.880507\\nC 3.913564 1.409049 -1.880507\\nC -3.913564 -1.409049 -1.880507\",\"xyz\",{\"doAssembly\": true, \"duplicateAssemblyAtoms\": true});\n\tviewer_1660222907432072.setStyle({\"sphere\": {\"colorscheme\": \"Jmol\", \"scale\": 0.1}, \"stick\": {\"colorscheme\": \"Jmol\", \"radius\": 0.01}});\n\tviewer_1660222907432072.zoomTo();\nviewer_1660222907432072.render();\n});\n</script>",
      "text/html": [
       "<div id=\"3dmolviewer_1660222907432072\"  style=\"position: relative; width: 600px; height: 300px\">\n",
       "        <p id=\"3dmolwarning_1660222907432072\" style=\"background-color:#ffcccc;color:black\">You appear to be running in JupyterLab (or JavaScript failed to load for some other reason).  You need to install the 3dmol extension: <br>\n",
       "        <tt>jupyter labextension install jupyterlab_3dmol</tt></p>\n",
       "        </div>\n",
       "<script>\n",
       "\n",
       "var loadScriptAsync = function(uri){\n",
       "  return new Promise((resolve, reject) => {\n",
       "    var tag = document.createElement('script');\n",
       "    tag.src = uri;\n",
       "    tag.async = true;\n",
       "    tag.onload = () => {\n",
       "      resolve();\n",
       "    };\n",
       "  var firstScriptTag = document.getElementsByTagName('script')[0];\n",
       "  firstScriptTag.parentNode.insertBefore(tag, firstScriptTag);\n",
       "});\n",
       "};\n",
       "\n",
       "if(typeof $3Dmolpromise === 'undefined') {\n",
       "$3Dmolpromise = null;\n",
       "  $3Dmolpromise = loadScriptAsync('https://3dmol.org/build/3Dmol.js');\n",
       "}\n",
       "\n",
       "var viewer_1660222907432072 = null;\n",
       "var warn = document.getElementById(\"3dmolwarning_1660222907432072\");\n",
       "if(warn) {\n",
       "    warn.parentNode.removeChild(warn);\n",
       "}\n",
       "$3Dmolpromise.then(function() {\n",
       "viewer_1660222907432072 = $3Dmol.createViewer($(\"#3dmolviewer_1660222907432072\"),{backgroundColor:\"white\"});\n",
       "viewer_1660222907432072.zoomTo();\n",
       "\tviewer_1660222907432072.addModel(\"60\\nC60\\nC 0.000000 1.009666 -4.451773\\nC -1.409049 1.880507 -3.913564\\nC 3.042724 0.870840 3.289556\\nC 3.042724 -0.870840 3.289556\\nC -1.880507 3.913564 1.409049\\nC 1.409049 -1.880507 3.913564\\nC -0.870840 -3.289556 -3.042724\\nC 1.880507 3.913564 -1.409049\\nC 3.289556 -3.042724 0.870840\\nC 3.042724 0.870840 -3.289556\\nC -0.870840 3.289556 -3.042724\\nC 0.000000 1.009666 4.451773\\nC 4.451773 0.000000 1.009666\\nC 3.913564 -1.409049 1.880507\\nC 0.000000 -1.009666 4.451773\\nC -4.451773 -0.000000 1.009666\\nC -3.913564 1.409049 1.880507\\nC -1.880507 3.913564 -1.409049\\nC -1.409049 -1.880507 3.913564\\nC 1.409049 1.880507 -3.913564\\nC 0.870840 -3.289556 3.042724\\nC -3.289556 -3.042724 -0.870840\\nC -3.289556 -3.042724 0.870840\\nC 0.870840 -3.289556 -3.042724\\nC -3.042724 -0.870840 3.289556\\nC -3.042724 0.870840 3.289556\\nC 0.870840 3.289556 3.042724\\nC 1.880507 -3.913564 -1.409049\\nC 1.409049 1.880507 3.913564\\nC -1.409049 -1.880507 -3.913564\\nC -1.880507 -3.913564 1.409049\\nC 0.000000 -1.009666 -4.451773\\nC 4.451773 0.000000 -1.009666\\nC 1.009666 4.451773 0.000000\\nC 3.042724 -0.870840 -3.289556\\nC -3.289556 3.042724 -0.870840\\nC 3.913564 -1.409049 -1.880507\\nC -4.451773 -0.000000 -1.009666\\nC -1.009666 -4.451773 -0.000000\\nC -1.880507 -3.913564 -1.409049\\nC -3.289556 3.042724 0.870840\\nC 1.880507 3.913564 1.409049\\nC 1.409049 -1.880507 -3.913564\\nC -3.042724 -0.870840 -3.289556\\nC -3.042724 0.870840 -3.289556\\nC 3.289556 -3.042724 -0.870840\\nC -3.913564 1.409049 -1.880507\\nC 1.009666 -4.451773 -0.000000\\nC 1.880507 -3.913564 1.409049\\nC -1.009666 4.451773 0.000000\\nC -1.409049 1.880507 3.913564\\nC 0.870840 3.289556 -3.042724\\nC -0.870840 -3.289556 3.042724\\nC -3.913564 -1.409049 1.880507\\nC 3.289556 3.042724 0.870840\\nC 3.289556 3.042724 -0.870840\\nC -0.870840 3.289556 3.042724\\nC 3.913564 1.409049 1.880507\\nC 3.913564 1.409049 -1.880507\\nC -3.913564 -1.409049 -1.880507\",\"xyz\",{\"doAssembly\": true, \"duplicateAssemblyAtoms\": true});\n",
       "\tviewer_1660222907432072.setStyle({\"sphere\": {\"colorscheme\": \"Jmol\", \"scale\": 0.1}, \"stick\": {\"colorscheme\": \"Jmol\", \"radius\": 0.01}});\n",
       "\tviewer_1660222907432072.zoomTo();\n",
       "viewer_1660222907432072.render();\n",
       "});\n",
       "</script>"
      ]
     },
     "metadata": {},
     "output_type": "display_data"
    },
    {
     "data": {
      "text/plain": [
       "<py3Dmol.view at 0x7f7c77900fd0>"
      ]
     },
     "execution_count": 14,
     "metadata": {},
     "output_type": "execute_result"
    }
   ],
   "source": [
    "# to improve the quality, you can increase the minimum distance\n",
    "C4.from_random(0, 'Ih', ['C'], [60], t_factor=1.2)\n",
    "C4.show(scale=0.1, radius=0.01)"
   ]
  }
 ],
 "metadata": {
  "@webio": {
   "lastCommId": null,
   "lastKernelId": null
  },
  "kernelspec": {
   "display_name": "Python 3 (ipykernel)",
   "language": "python",
   "name": "python3"
  },
  "language_info": {
   "codemirror_mode": {
    "name": "ipython",
    "version": 3
   },
   "file_extension": ".py",
   "mimetype": "text/x-python",
   "name": "python",
   "nbconvert_exporter": "python",
   "pygments_lexer": "ipython3",
   "version": "3.7.12"
  }
 },
 "nbformat": 4,
 "nbformat_minor": 4
}
